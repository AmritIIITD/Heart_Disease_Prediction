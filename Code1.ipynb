{
  "nbformat": 4,
  "nbformat_minor": 0,
  "metadata": {
    "colab": {
      "name": "Copy of BDMH_PROJECT_FINAL.ipynb",
      "provenance": [],
      "collapsed_sections": []
    },
    "kernelspec": {
      "name": "python3",
      "display_name": "Python 3"
    }
  },
  "cells": [
    {
      "cell_type": "markdown",
      "metadata": {
        "id": "eAX9vTOGuR0U",
        "colab_type": "text"
      },
      "source": [
        "**HEART DISEASE PREDICTION**"
      ]
    },
    {
      "cell_type": "code",
      "metadata": {
        "id": "2FTNiYtl_TBX",
        "colab_type": "code",
        "colab": {}
      },
      "source": [
        "import pandas as pd\n",
        "from sklearn.tree import DecisionTreeClassifier as cl\n",
        "from sklearn.metrics import accuracy_score\n",
        "from sklearn.naive_bayes import GaussianNB\n",
        "import tensorflow as tf\n",
        "import numpy as np\n",
        "from sklearn.model_selection import train_test_split\n",
        "from tensorflow import keras\n",
        "from sklearn.metrics import f1_score\n",
        "from sklearn.metrics import precision_score\n",
        "from sklearn.metrics import recall_score"
      ],
      "execution_count": 0,
      "outputs": []
    },
    {
      "cell_type": "code",
      "metadata": {
        "id": "9l52fcM53ZRN",
        "colab_type": "code",
        "outputId": "0beb9d6e-90c0-4409-dcee-590f0a4acbb8",
        "colab": {
          "base_uri": "https://localhost:8080/",
          "height": 34
        }
      },
      "source": [
        "from google.colab import drive\n",
        "drive.mount('/content/drive')"
      ],
      "execution_count": 288,
      "outputs": [
        {
          "output_type": "stream",
          "text": [
            "Drive already mounted at /content/drive; to attempt to forcibly remount, call drive.mount(\"/content/drive\", force_remount=True).\n"
          ],
          "name": "stdout"
        }
      ]
    },
    {
      "cell_type": "code",
      "metadata": {
        "id": "9xs8wEMAI9J5",
        "colab_type": "code",
        "colab": {}
      },
      "source": [
        "accuracy_dict = {}\n",
        "precision_dict = {}\n",
        "recall_dict = {}\n",
        "fscore_dict = {}"
      ],
      "execution_count": 0,
      "outputs": []
    },
    {
      "cell_type": "code",
      "metadata": {
        "id": "ol4PN63f_xfD",
        "colab_type": "code",
        "outputId": "686094a3-6279-4440-82a3-b146b5270fc7",
        "colab": {
          "base_uri": "https://localhost:8080/",
          "height": 510
        }
      },
      "source": [
        "data1=pd.read_csv(\"/content/drive/My Drive/heart.csv\")\n",
        "data2=pd.read_csv(\"/content/drive/My Drive/heart.csv\")\n",
        "target = data1['target']\n",
        "data1 = data1.drop(columns=['target','sex','age'],axis=1)\n",
        "data2 = data2.drop(columns=['target'],axis=1)\n",
        "print(data1)\n",
        "print(data2)\n"
      ],
      "execution_count": 290,
      "outputs": [
        {
          "output_type": "stream",
          "text": [
            "     cp  trestbps  chol  fbs  restecg  thalach  exang  oldpeak  slope  ca  thal\n",
            "0     3       145   233    1        0      150      0      2.3      0   0     1\n",
            "1     2       130   250    0        1      187      0      3.5      0   0     2\n",
            "2     1       130   204    0        0      172      0      1.4      2   0     2\n",
            "3     1       120   236    0        1      178      0      0.8      2   0     2\n",
            "4     0       120   354    0        1      163      1      0.6      2   0     2\n",
            "..   ..       ...   ...  ...      ...      ...    ...      ...    ...  ..   ...\n",
            "298   0       140   241    0        1      123      1      0.2      1   0     3\n",
            "299   3       110   264    0        1      132      0      1.2      1   0     3\n",
            "300   0       144   193    1        1      141      0      3.4      1   2     3\n",
            "301   0       130   131    0        1      115      1      1.2      1   1     3\n",
            "302   1       130   236    0        0      174      0      0.0      1   1     2\n",
            "\n",
            "[303 rows x 11 columns]\n",
            "     age  sex  cp  trestbps  chol  ...  exang  oldpeak  slope  ca  thal\n",
            "0     63    1   3       145   233  ...      0      2.3      0   0     1\n",
            "1     37    1   2       130   250  ...      0      3.5      0   0     2\n",
            "2     41    0   1       130   204  ...      0      1.4      2   0     2\n",
            "3     56    1   1       120   236  ...      0      0.8      2   0     2\n",
            "4     57    0   0       120   354  ...      1      0.6      2   0     2\n",
            "..   ...  ...  ..       ...   ...  ...    ...      ...    ...  ..   ...\n",
            "298   57    0   0       140   241  ...      1      0.2      1   0     3\n",
            "299   45    1   3       110   264  ...      0      1.2      1   0     3\n",
            "300   68    1   0       144   193  ...      0      3.4      1   2     3\n",
            "301   57    1   0       130   131  ...      1      1.2      1   1     3\n",
            "302   57    0   1       130   236  ...      0      0.0      1   1     2\n",
            "\n",
            "[303 rows x 13 columns]\n"
          ],
          "name": "stdout"
        }
      ]
    },
    {
      "cell_type": "markdown",
      "metadata": {
        "id": "oIvxMrlWjCJK",
        "colab_type": "text"
      },
      "source": [
        "**MULTI-LAYER PERCEPTRON MODEL**"
      ]
    },
    {
      "cell_type": "code",
      "metadata": {
        "id": "A2QFiMSFApic",
        "colab_type": "code",
        "outputId": "091690cb-cef0-4942-f1cc-6f08a4eed082",
        "colab": {
          "base_uri": "https://localhost:8080/",
          "height": 1000
        }
      },
      "source": [
        "model = tf.keras.models.Sequential()\n",
        "model.add(tf.keras.layers.Flatten())\n",
        "model.add(tf.keras.layers.Dense(512, activation=tf.nn.relu))\n",
        "model.add(tf.keras.layers.Dense(256, activation=tf.nn.relu))\n",
        "model.add(tf.keras.layers.Dense(128, activation=tf.nn.relu))\n",
        "model.add(tf.keras.layers.Dense(512, activation=tf.nn.softmax))\n",
        "\n",
        "model.compile(optimizer = tf.optimizers.Adam(),\n",
        "              loss = 'sparse_categorical_crossentropy',\n",
        "              metrics=['accuracy'])\n",
        "target = np.array(target)\n",
        "data1 = np.array(data1)\n",
        "data2 = np.array(data2)\n",
        "train_x,test_x,train_y,test_y = train_test_split(data1,target,test_size=0.2)\n",
        "x_train,x_test,y_train,y_test = train_test_split(data2,target,test_size=0.2)\n",
        "model.fit(train_x,train_y,epochs=50)\n",
        "pred1 = model.predict_classes(test_x)\n",
        "\n",
        "model1 = tf.keras.models.Sequential()\n",
        "model1.add(tf.keras.layers.Flatten())\n",
        "model1.add(tf.keras.layers.Dense(512, activation=tf.nn.relu))\n",
        "model1.add(tf.keras.layers.Dense(256, activation=tf.nn.relu))\n",
        "model1.add(tf.keras.layers.Dense(128, activation=tf.nn.relu))\n",
        "model1.add(tf.keras.layers.Dense(512, activation=tf.nn.softmax))\n",
        "\n",
        "model1.compile(optimizer = tf.optimizers.Adam(),\n",
        "              loss = 'sparse_categorical_crossentropy',\n",
        "              metrics=['accuracy'])\n",
        "model1.fit(x_train,y_train,epochs=50)\n",
        "pred2 = model1.predict_classes(x_test)\n"
      ],
      "execution_count": 291,
      "outputs": [
        {
          "output_type": "stream",
          "text": [
            "Epoch 1/50\n",
            "8/8 [==============================] - 0s 4ms/step - loss: 3.4186 - accuracy: 0.4711 \n",
            "Epoch 2/50\n",
            "8/8 [==============================] - 0s 4ms/step - loss: 0.9146 - accuracy: 0.6322\n",
            "Epoch 3/50\n",
            "8/8 [==============================] - 0s 5ms/step - loss: 0.8240 - accuracy: 0.6033\n",
            "Epoch 4/50\n",
            "8/8 [==============================] - 0s 5ms/step - loss: 0.6596 - accuracy: 0.6653\n",
            "Epoch 5/50\n",
            "8/8 [==============================] - 0s 4ms/step - loss: 0.6125 - accuracy: 0.6446\n",
            "Epoch 6/50\n",
            "8/8 [==============================] - 0s 4ms/step - loss: 0.5939 - accuracy: 0.6818\n",
            "Epoch 7/50\n",
            "8/8 [==============================] - 0s 5ms/step - loss: 0.6684 - accuracy: 0.6364\n",
            "Epoch 8/50\n",
            "8/8 [==============================] - 0s 7ms/step - loss: 0.5859 - accuracy: 0.6777\n",
            "Epoch 9/50\n",
            "8/8 [==============================] - 0s 4ms/step - loss: 0.5972 - accuracy: 0.6570\n",
            "Epoch 10/50\n",
            "8/8 [==============================] - 0s 6ms/step - loss: 0.6662 - accuracy: 0.6488\n",
            "Epoch 11/50\n",
            "8/8 [==============================] - 0s 5ms/step - loss: 0.5991 - accuracy: 0.6818\n",
            "Epoch 12/50\n",
            "8/8 [==============================] - 0s 5ms/step - loss: 0.6663 - accuracy: 0.6777\n",
            "Epoch 13/50\n",
            "8/8 [==============================] - 0s 5ms/step - loss: 0.5895 - accuracy: 0.6860\n",
            "Epoch 14/50\n",
            "8/8 [==============================] - 0s 4ms/step - loss: 0.6909 - accuracy: 0.6364\n",
            "Epoch 15/50\n",
            "8/8 [==============================] - 0s 4ms/step - loss: 0.5942 - accuracy: 0.6901\n",
            "Epoch 16/50\n",
            "8/8 [==============================] - 0s 4ms/step - loss: 0.6185 - accuracy: 0.6653\n",
            "Epoch 17/50\n",
            "8/8 [==============================] - 0s 4ms/step - loss: 0.6718 - accuracy: 0.6488\n",
            "Epoch 18/50\n",
            "8/8 [==============================] - 0s 4ms/step - loss: 0.5746 - accuracy: 0.7107\n",
            "Epoch 19/50\n",
            "8/8 [==============================] - 0s 4ms/step - loss: 0.5562 - accuracy: 0.7231\n",
            "Epoch 20/50\n",
            "8/8 [==============================] - 0s 4ms/step - loss: 0.5289 - accuracy: 0.7397\n",
            "Epoch 21/50\n",
            "8/8 [==============================] - 0s 4ms/step - loss: 0.5014 - accuracy: 0.7521\n",
            "Epoch 22/50\n",
            "8/8 [==============================] - 0s 4ms/step - loss: 0.5617 - accuracy: 0.7107\n",
            "Epoch 23/50\n",
            "8/8 [==============================] - 0s 4ms/step - loss: 0.5681 - accuracy: 0.7149\n",
            "Epoch 24/50\n",
            "8/8 [==============================] - 0s 4ms/step - loss: 0.5313 - accuracy: 0.7479\n",
            "Epoch 25/50\n",
            "8/8 [==============================] - 0s 4ms/step - loss: 0.5057 - accuracy: 0.7562\n",
            "Epoch 26/50\n",
            "8/8 [==============================] - 0s 5ms/step - loss: 0.6040 - accuracy: 0.7066\n",
            "Epoch 27/50\n",
            "8/8 [==============================] - 0s 5ms/step - loss: 0.6788 - accuracy: 0.6818\n",
            "Epoch 28/50\n",
            "8/8 [==============================] - 0s 4ms/step - loss: 0.6030 - accuracy: 0.7025\n",
            "Epoch 29/50\n",
            "8/8 [==============================] - 0s 4ms/step - loss: 0.5215 - accuracy: 0.7603\n",
            "Epoch 30/50\n",
            "8/8 [==============================] - 0s 4ms/step - loss: 0.4644 - accuracy: 0.7851\n",
            "Epoch 31/50\n",
            "8/8 [==============================] - 0s 4ms/step - loss: 0.4478 - accuracy: 0.8058\n",
            "Epoch 32/50\n",
            "8/8 [==============================] - 0s 4ms/step - loss: 0.4534 - accuracy: 0.7769\n",
            "Epoch 33/50\n",
            "8/8 [==============================] - 0s 6ms/step - loss: 0.4518 - accuracy: 0.7727\n",
            "Epoch 34/50\n",
            "8/8 [==============================] - 0s 5ms/step - loss: 0.4845 - accuracy: 0.7479\n",
            "Epoch 35/50\n",
            "8/8 [==============================] - 0s 4ms/step - loss: 0.5235 - accuracy: 0.7521\n",
            "Epoch 36/50\n",
            "8/8 [==============================] - 0s 4ms/step - loss: 0.4514 - accuracy: 0.7769\n",
            "Epoch 37/50\n",
            "8/8 [==============================] - 0s 4ms/step - loss: 0.4512 - accuracy: 0.7603\n",
            "Epoch 38/50\n",
            "8/8 [==============================] - 0s 4ms/step - loss: 0.4119 - accuracy: 0.7934\n",
            "Epoch 39/50\n",
            "8/8 [==============================] - 0s 4ms/step - loss: 0.4176 - accuracy: 0.7975\n",
            "Epoch 40/50\n",
            "8/8 [==============================] - 0s 4ms/step - loss: 0.4204 - accuracy: 0.8140\n",
            "Epoch 41/50\n",
            "8/8 [==============================] - 0s 4ms/step - loss: 0.5114 - accuracy: 0.7397\n",
            "Epoch 42/50\n",
            "8/8 [==============================] - 0s 4ms/step - loss: 0.5252 - accuracy: 0.7190\n",
            "Epoch 43/50\n",
            "8/8 [==============================] - 0s 4ms/step - loss: 0.4006 - accuracy: 0.8099\n",
            "Epoch 44/50\n",
            "8/8 [==============================] - 0s 4ms/step - loss: 0.4060 - accuracy: 0.8264\n",
            "Epoch 45/50\n",
            "8/8 [==============================] - 0s 4ms/step - loss: 0.3980 - accuracy: 0.8306\n",
            "Epoch 46/50\n",
            "8/8 [==============================] - 0s 4ms/step - loss: 0.4081 - accuracy: 0.8264\n",
            "Epoch 47/50\n",
            "8/8 [==============================] - 0s 4ms/step - loss: 0.4772 - accuracy: 0.7603\n",
            "Epoch 48/50\n",
            "8/8 [==============================] - 0s 4ms/step - loss: 0.4737 - accuracy: 0.7727\n",
            "Epoch 49/50\n",
            "8/8 [==============================] - 0s 4ms/step - loss: 0.5269 - accuracy: 0.7479\n",
            "Epoch 50/50\n",
            "8/8 [==============================] - 0s 5ms/step - loss: 0.4736 - accuracy: 0.7810\n",
            "Epoch 1/50\n",
            "8/8 [==============================] - 0s 4ms/step - loss: 3.0466 - accuracy: 0.3595\n",
            "Epoch 2/50\n",
            "8/8 [==============================] - 0s 4ms/step - loss: 1.4349 - accuracy: 0.5661\n",
            "Epoch 3/50\n",
            "8/8 [==============================] - 0s 4ms/step - loss: 0.8268 - accuracy: 0.6157\n",
            "Epoch 4/50\n",
            "8/8 [==============================] - 0s 4ms/step - loss: 0.7118 - accuracy: 0.6653\n",
            "Epoch 5/50\n",
            "8/8 [==============================] - 0s 4ms/step - loss: 0.6348 - accuracy: 0.6901\n",
            "Epoch 6/50\n",
            "8/8 [==============================] - 0s 5ms/step - loss: 0.7233 - accuracy: 0.6240\n",
            "Epoch 7/50\n",
            "8/8 [==============================] - 0s 5ms/step - loss: 0.7534 - accuracy: 0.6570\n",
            "Epoch 8/50\n",
            "8/8 [==============================] - 0s 4ms/step - loss: 0.7157 - accuracy: 0.6281\n",
            "Epoch 9/50\n",
            "8/8 [==============================] - 0s 4ms/step - loss: 0.6542 - accuracy: 0.6612\n",
            "Epoch 10/50\n",
            "8/8 [==============================] - 0s 5ms/step - loss: 0.5351 - accuracy: 0.6983\n",
            "Epoch 11/50\n",
            "8/8 [==============================] - 0s 4ms/step - loss: 0.5080 - accuracy: 0.7521\n",
            "Epoch 12/50\n",
            "8/8 [==============================] - 0s 4ms/step - loss: 0.5129 - accuracy: 0.7562\n",
            "Epoch 13/50\n",
            "8/8 [==============================] - 0s 4ms/step - loss: 0.5016 - accuracy: 0.7562\n",
            "Epoch 14/50\n",
            "8/8 [==============================] - 0s 4ms/step - loss: 0.5227 - accuracy: 0.7273\n",
            "Epoch 15/50\n",
            "8/8 [==============================] - 0s 4ms/step - loss: 0.4984 - accuracy: 0.7479\n",
            "Epoch 16/50\n",
            "8/8 [==============================] - 0s 4ms/step - loss: 0.5237 - accuracy: 0.7273\n",
            "Epoch 17/50\n",
            "8/8 [==============================] - 0s 4ms/step - loss: 0.4879 - accuracy: 0.7686\n",
            "Epoch 18/50\n",
            "8/8 [==============================] - 0s 6ms/step - loss: 0.5170 - accuracy: 0.7190\n",
            "Epoch 19/50\n",
            "8/8 [==============================] - 0s 5ms/step - loss: 0.6286 - accuracy: 0.6818\n",
            "Epoch 20/50\n",
            "8/8 [==============================] - 0s 4ms/step - loss: 0.7277 - accuracy: 0.6446\n",
            "Epoch 21/50\n",
            "8/8 [==============================] - 0s 4ms/step - loss: 0.7546 - accuracy: 0.6612\n",
            "Epoch 22/50\n",
            "8/8 [==============================] - 0s 4ms/step - loss: 0.6356 - accuracy: 0.6942\n",
            "Epoch 23/50\n",
            "8/8 [==============================] - 0s 4ms/step - loss: 0.4980 - accuracy: 0.7645\n",
            "Epoch 24/50\n",
            "8/8 [==============================] - 0s 4ms/step - loss: 0.5106 - accuracy: 0.7314\n",
            "Epoch 25/50\n",
            "8/8 [==============================] - 0s 4ms/step - loss: 0.4462 - accuracy: 0.7810\n",
            "Epoch 26/50\n",
            "8/8 [==============================] - 0s 4ms/step - loss: 0.4678 - accuracy: 0.7769\n",
            "Epoch 27/50\n",
            "8/8 [==============================] - 0s 4ms/step - loss: 0.4647 - accuracy: 0.7893\n",
            "Epoch 28/50\n",
            "8/8 [==============================] - 0s 4ms/step - loss: 0.4249 - accuracy: 0.8017\n",
            "Epoch 29/50\n",
            "8/8 [==============================] - 0s 4ms/step - loss: 0.4326 - accuracy: 0.7934\n",
            "Epoch 30/50\n",
            "8/8 [==============================] - 0s 4ms/step - loss: 0.5612 - accuracy: 0.7355\n",
            "Epoch 31/50\n",
            "8/8 [==============================] - 0s 4ms/step - loss: 0.4647 - accuracy: 0.7769\n",
            "Epoch 32/50\n",
            "8/8 [==============================] - 0s 4ms/step - loss: 0.4586 - accuracy: 0.7893\n",
            "Epoch 33/50\n",
            "8/8 [==============================] - 0s 4ms/step - loss: 0.4948 - accuracy: 0.7397\n",
            "Epoch 34/50\n",
            "8/8 [==============================] - 0s 4ms/step - loss: 0.5715 - accuracy: 0.6942\n",
            "Epoch 35/50\n",
            "8/8 [==============================] - 0s 4ms/step - loss: 0.5626 - accuracy: 0.7397\n",
            "Epoch 36/50\n",
            "8/8 [==============================] - 0s 4ms/step - loss: 0.4448 - accuracy: 0.7851\n",
            "Epoch 37/50\n",
            "8/8 [==============================] - 0s 4ms/step - loss: 0.4364 - accuracy: 0.8182\n",
            "Epoch 38/50\n",
            "8/8 [==============================] - 0s 4ms/step - loss: 0.4058 - accuracy: 0.8306\n",
            "Epoch 39/50\n",
            "8/8 [==============================] - 0s 5ms/step - loss: 0.3976 - accuracy: 0.8140\n",
            "Epoch 40/50\n",
            "8/8 [==============================] - 0s 4ms/step - loss: 0.3806 - accuracy: 0.8388\n",
            "Epoch 41/50\n",
            "8/8 [==============================] - 0s 5ms/step - loss: 0.3821 - accuracy: 0.8347\n",
            "Epoch 42/50\n",
            "8/8 [==============================] - 0s 4ms/step - loss: 0.3786 - accuracy: 0.8264\n",
            "Epoch 43/50\n",
            "8/8 [==============================] - 0s 4ms/step - loss: 0.4257 - accuracy: 0.7975\n",
            "Epoch 44/50\n",
            "8/8 [==============================] - 0s 4ms/step - loss: 0.4855 - accuracy: 0.7355\n",
            "Epoch 45/50\n",
            "8/8 [==============================] - 0s 4ms/step - loss: 0.4608 - accuracy: 0.7851\n",
            "Epoch 46/50\n",
            "8/8 [==============================] - 0s 4ms/step - loss: 0.4098 - accuracy: 0.8140\n",
            "Epoch 47/50\n",
            "8/8 [==============================] - 0s 4ms/step - loss: 0.3593 - accuracy: 0.8471\n",
            "Epoch 48/50\n",
            "8/8 [==============================] - 0s 4ms/step - loss: 0.3729 - accuracy: 0.8512\n",
            "Epoch 49/50\n",
            "8/8 [==============================] - 0s 4ms/step - loss: 0.3722 - accuracy: 0.8182\n",
            "Epoch 50/50\n",
            "8/8 [==============================] - 0s 4ms/step - loss: 0.4584 - accuracy: 0.7769\n"
          ],
          "name": "stdout"
        }
      ]
    },
    {
      "cell_type": "code",
      "metadata": {
        "id": "VUrAlyzjD2ZT",
        "colab_type": "code",
        "outputId": "9166cda8-382f-40ac-908b-61609cd17f98",
        "colab": {
          "base_uri": "https://localhost:8080/",
          "height": 140
        }
      },
      "source": [
        "print(\"*************Neural Network*************************\")\n",
        "print(\"******************************************************\")\n",
        "print(\"Accuracy without using two features namely \\\"sex\\\" , \\\"age\\\" : \")\n",
        "\n",
        "print(accuracy_score(test_y,pred1))\n",
        "print(\"*******************************************************\")\n",
        "print(\"Accuracy with using two features namely \\\"sex\\\" , \\\"age\\\" : \")\n",
        "print(accuracy_score(y_test,pred2))"
      ],
      "execution_count": 292,
      "outputs": [
        {
          "output_type": "stream",
          "text": [
            "*************Neural Network*************************\n",
            "******************************************************\n",
            "Accuracy without using two features namely \"sex\" , \"age\" : \n",
            "0.8032786885245902\n",
            "*******************************************************\n",
            "Accuracy with using two features namely \"sex\" , \"age\" : \n",
            "0.7540983606557377\n"
          ],
          "name": "stdout"
        }
      ]
    },
    {
      "cell_type": "code",
      "metadata": {
        "id": "nbIs4icSJgHS",
        "colab_type": "code",
        "outputId": "378c2d32-5840-4cd3-b951-8f4c8510fd5d",
        "colab": {
          "base_uri": "https://localhost:8080/",
          "height": 70
        }
      },
      "source": [
        "accuracy_dict[11] = []\n",
        "fscore_dict[11] = []\n",
        "accuracy_dict[13] = []\n",
        "fscore_dict[13] = []\n",
        "\n",
        "accuracy_dict[11].append(accuracy_score(test_y, pred1))\n",
        "fscore_dict[11].append(f1_score(test_y, pred1, average='macro'))\n",
        "print(\"*******************************************************\")\n",
        "print(\"F1 score without using two features namely \\\"sex\\\" , \\\"age\\\" : \")\n",
        "print(\"F1 score\",f1_score(test_y, pred1, average='macro'))"
      ],
      "execution_count": 293,
      "outputs": [
        {
          "output_type": "stream",
          "text": [
            "*******************************************************\n",
            "F1 score without using two features namely \"sex\" , \"age\" : \n",
            "F1 score 0.801948051948052\n"
          ],
          "name": "stdout"
        }
      ]
    },
    {
      "cell_type": "code",
      "metadata": {
        "id": "ZrT9jDAjK58k",
        "colab_type": "code",
        "outputId": "040d9ff0-226c-4ecb-863e-f5a8488a426b",
        "colab": {
          "base_uri": "https://localhost:8080/",
          "height": 70
        }
      },
      "source": [
        "accuracy_dict[13].append(accuracy_score(y_test, pred2))\n",
        "fscore_dict[13].append(f1_score(y_test, pred2, average='macro'))\n",
        "print(\"*******************************************************\")\n",
        "print(\"F1 score with using two features namely \\\"sex\\\" , \\\"age\\\" : \")\n",
        "print(\"F1 score\",f1_score(y_test, pred2, average='macro'))"
      ],
      "execution_count": 294,
      "outputs": [
        {
          "output_type": "stream",
          "text": [
            "*******************************************************\n",
            "F1 score with using two features namely \"sex\" , \"age\" : \n",
            "F1 score 0.7530364372469636\n"
          ],
          "name": "stdout"
        }
      ]
    },
    {
      "cell_type": "markdown",
      "metadata": {
        "id": "MUuvuXyPt7PU",
        "colab_type": "text"
      },
      "source": [
        "**SVM MODEL**"
      ]
    },
    {
      "cell_type": "code",
      "metadata": {
        "id": "WWhPcRTEl2LE",
        "colab_type": "code",
        "outputId": "94e8c997-fd3f-4609-ccb2-5c7f8d9f83bc",
        "colab": {
          "base_uri": "https://localhost:8080/",
          "height": 158
        }
      },
      "source": [
        "def notmalise__in_0to_1Data(fullcol):\n",
        "# -----------------------------------------------------------------------------------------\n",
        "    min_is=min(fullcol)\n",
        "    max_is=max(fullcol)\n",
        "    fullcol1=fullcol.apply(lambda x:((x-min_is)/(max_is-min_is)))\n",
        "    \n",
        "#     ---------------------------------------------\n",
        "    \n",
        "    return fullcol1\n",
        "from sklearn.svm import SVC \n",
        "from sklearn.model_selection import GridSearchCV \n",
        "from sklearn import svm\n",
        "from sklearn.metrics import accuracy_score\n",
        "from sklearn.model_selection import cross_val_score,train_test_split\n",
        "from sklearn import preprocessing\n",
        "from sklearn import metrics\n",
        "import pandas as pd\n",
        "import numpy as np\n",
        "df=pd.read_csv(\"/content/drive/My Drive/heart.csv\", header = 0)\n",
        "df1=pd.read_csv(\"/content/drive/My Drive/heart.csv\", header = 0)\n",
        "X= df.drop(columns=['target','age','sex'],axis=0)\n",
        "X1=df1.drop(columns=['target'],axis=0)\n",
        "y=df['target']\n",
        "y1=df['target']\n",
        "X_train, X_test, y_train, y_test = train_test_split(X, y, test_size=0.2)\n",
        "X_train_normalise=X_train.apply(lambda col: notmalise__in_0to_1Data(col), axis = 0)\n",
        "X_test_normalise=X_test.apply(lambda col: notmalise__in_0to_1Data(col), axis = 0)\n",
        "svm1 =SVC(C=1000,gamma=0.01,kernel=\"rbf\")\n",
        "svm1.fit(X_train_normalise, y_train)\n",
        "svm_score_is = cross_val_score(estimator=svm1, X=X_train, y=y_train, cv=5)\n",
        "svm_predict= svm1.predict(X_test_normalise)\n",
        "print(\"Accuracy of svm (Without age and sex) is \",svm_score_is.mean())\n",
        "accuracy_dict[11].append(svm_score_is.mean())\n",
        "fscore_dict[11].append(f1_score(y_test, svm_predict, average='macro'))\n",
        "print(\"*******************************************************\")\n",
        "print(\"F1 score without using two features namely \\\"sex\\\" , \\\"age\\\" : \")\n",
        "print(\"F1 score\",f1_score(y_test, svm_predict, average='macro'))\n",
        "X_train, X_test, y_train, y_test = train_test_split(X1, y1, test_size=0.2)\n",
        "X_train_normalise=X_train.apply(lambda col: notmalise__in_0to_1Data(col), axis = 0)\n",
        "X_test_normalise=X_test.apply(lambda col: notmalise__in_0to_1Data(col), axis = 0)\n",
        "svm1 =SVC(C=1000,gamma=0.01,kernel=\"rbf\")\n",
        "svm1.fit(X_train_normalise, y_train)\n",
        "svm_score_is = cross_val_score(estimator=svm1, X=X_train, y=y_train, cv=5)\n",
        "\n",
        "svm_predict= svm1.predict(X_test_normalise)\n",
        "print(\"Accuracy of svm (With age and sex)  is \",svm_score_is.mean())\n",
        "accuracy_dict[13].append(svm_score_is.mean())\n",
        "fscore_dict[13].append(f1_score(y_test, svm_predict, average='macro'))\n",
        "print(\"*******************************************************\")\n",
        "print(\"F1 score with using two features namely \\\"sex\\\" , \\\"age\\\" : \")\n",
        "print(\"F1 score\",f1_score(y_test, svm_predict, average='macro'))"
      ],
      "execution_count": 295,
      "outputs": [
        {
          "output_type": "stream",
          "text": [
            "Accuracy of svm (Without age and sex) is  0.5744047619047619\n",
            "*******************************************************\n",
            "F1 score without using two features namely \"sex\" , \"age\" : \n",
            "F1 score 0.7750354609929078\n",
            "Accuracy of svm (With age and sex)  is  0.5867346938775511\n",
            "*******************************************************\n",
            "F1 score with using two features namely \"sex\" , \"age\" : \n",
            "F1 score 0.865934065934066\n"
          ],
          "name": "stdout"
        }
      ]
    },
    {
      "cell_type": "markdown",
      "metadata": {
        "id": "Q3i9t5vXoVpx",
        "colab_type": "text"
      },
      "source": [
        "**LOGISTIC REGRESSION**"
      ]
    },
    {
      "cell_type": "code",
      "metadata": {
        "id": "TtHBuRk0oxpA",
        "colab_type": "code",
        "outputId": "a32eca91-c554-4f53-ca81-550c365cab47",
        "colab": {
          "base_uri": "https://localhost:8080/",
          "height": 1000
        }
      },
      "source": [
        "from sklearn.linear_model import LogisticRegression\n",
        "\n",
        "data = pd.read_csv('/content/drive/My Drive/heart.csv')\n",
        "data2 = pd.read_csv('/content/drive/My Drive/heart.csv')\n",
        "d=data.isnull().sum(axis = 1)\n",
        "x=data['target']\n",
        "a = data['age']\n",
        "s = data['sex']\n",
        "data = data.drop(columns=['target','age','sex'],axis=0)\n",
        "data2=data2.drop(columns=['target'],axis=0)\n",
        "classifier = LogisticRegression()\n",
        "x_train,x_test,y_train,y_test=train_test_split(data,x,test_size=0.2)\n",
        "classifier.fit(x_train, y_train)\n",
        "y=classifier.predict(x_test)\n",
        "score_is = cross_val_score(estimator=classifier, X=x_train, y=y_train, cv=5)\n",
        "print(\"----------------------------------- Logistic Regression MODEL -----------------------------------\")\n",
        "print(\"***********************Without age and sex column************************\")\n",
        "print(\"ACCURACY SCORE:-\",score_is.mean())\n",
        "accuracy_dict[11].append(score_is.mean())\n",
        "fscore_dict[11].append(f1_score(y_test, y, average='macro'))\n",
        "print(\"*******************************************************\")\n",
        "print(\"F1 score without using two features namely \\\"sex\\\" , \\\"age\\\" : \")\n",
        "print(\"F1 score\",f1_score(y_test, y, average='macro'))\n",
        "print(\"\\n\")\n",
        "x_train1,x_test1,y_train1,y_test1=train_test_split(data2,x,test_size=0.2)\n",
        "classifier.fit(x_train1,y_train1)\n",
        "y1=classifier.predict(x_test1)\n",
        "score_is = cross_val_score(estimator=classifier, X=x_train1, y=y_train1, cv=5)\n",
        "print(\"**********************With age and sex column****************************\")\n",
        "print(\"ACCURACY SCORE:-\",score_is.mean())\n",
        "accuracy_dict[13].append(score_is.mean())\n",
        "fscore_dict[13].append(f1_score(y_test1, y1, average='macro'))\n",
        "print(\"*******************************************************\")\n",
        "print(\"F1 score with using two features namely \\\"sex\\\" , \\\"age\\\" : \")\n",
        "print(\"F1 score\",f1_score(y_test1, y1, average='macro'))\n",
        "\n",
        "\n"
      ],
      "execution_count": 296,
      "outputs": [
        {
          "output_type": "stream",
          "text": [
            "/usr/local/lib/python3.6/dist-packages/sklearn/linear_model/_logistic.py:940: ConvergenceWarning: lbfgs failed to converge (status=1):\n",
            "STOP: TOTAL NO. of ITERATIONS REACHED LIMIT.\n",
            "\n",
            "Increase the number of iterations (max_iter) or scale the data as shown in:\n",
            "    https://scikit-learn.org/stable/modules/preprocessing.html\n",
            "Please also refer to the documentation for alternative solver options:\n",
            "    https://scikit-learn.org/stable/modules/linear_model.html#logistic-regression\n",
            "  extra_warning_msg=_LOGISTIC_SOLVER_CONVERGENCE_MSG)\n",
            "/usr/local/lib/python3.6/dist-packages/sklearn/linear_model/_logistic.py:940: ConvergenceWarning: lbfgs failed to converge (status=1):\n",
            "STOP: TOTAL NO. of ITERATIONS REACHED LIMIT.\n",
            "\n",
            "Increase the number of iterations (max_iter) or scale the data as shown in:\n",
            "    https://scikit-learn.org/stable/modules/preprocessing.html\n",
            "Please also refer to the documentation for alternative solver options:\n",
            "    https://scikit-learn.org/stable/modules/linear_model.html#logistic-regression\n",
            "  extra_warning_msg=_LOGISTIC_SOLVER_CONVERGENCE_MSG)\n",
            "/usr/local/lib/python3.6/dist-packages/sklearn/linear_model/_logistic.py:940: ConvergenceWarning: lbfgs failed to converge (status=1):\n",
            "STOP: TOTAL NO. of ITERATIONS REACHED LIMIT.\n",
            "\n",
            "Increase the number of iterations (max_iter) or scale the data as shown in:\n",
            "    https://scikit-learn.org/stable/modules/preprocessing.html\n",
            "Please also refer to the documentation for alternative solver options:\n",
            "    https://scikit-learn.org/stable/modules/linear_model.html#logistic-regression\n",
            "  extra_warning_msg=_LOGISTIC_SOLVER_CONVERGENCE_MSG)\n",
            "/usr/local/lib/python3.6/dist-packages/sklearn/linear_model/_logistic.py:940: ConvergenceWarning: lbfgs failed to converge (status=1):\n",
            "STOP: TOTAL NO. of ITERATIONS REACHED LIMIT.\n",
            "\n",
            "Increase the number of iterations (max_iter) or scale the data as shown in:\n",
            "    https://scikit-learn.org/stable/modules/preprocessing.html\n",
            "Please also refer to the documentation for alternative solver options:\n",
            "    https://scikit-learn.org/stable/modules/linear_model.html#logistic-regression\n",
            "  extra_warning_msg=_LOGISTIC_SOLVER_CONVERGENCE_MSG)\n",
            "/usr/local/lib/python3.6/dist-packages/sklearn/linear_model/_logistic.py:940: ConvergenceWarning: lbfgs failed to converge (status=1):\n",
            "STOP: TOTAL NO. of ITERATIONS REACHED LIMIT.\n",
            "\n",
            "Increase the number of iterations (max_iter) or scale the data as shown in:\n",
            "    https://scikit-learn.org/stable/modules/preprocessing.html\n",
            "Please also refer to the documentation for alternative solver options:\n",
            "    https://scikit-learn.org/stable/modules/linear_model.html#logistic-regression\n",
            "  extra_warning_msg=_LOGISTIC_SOLVER_CONVERGENCE_MSG)\n",
            "/usr/local/lib/python3.6/dist-packages/sklearn/linear_model/_logistic.py:940: ConvergenceWarning: lbfgs failed to converge (status=1):\n",
            "STOP: TOTAL NO. of ITERATIONS REACHED LIMIT.\n",
            "\n",
            "Increase the number of iterations (max_iter) or scale the data as shown in:\n",
            "    https://scikit-learn.org/stable/modules/preprocessing.html\n",
            "Please also refer to the documentation for alternative solver options:\n",
            "    https://scikit-learn.org/stable/modules/linear_model.html#logistic-regression\n",
            "  extra_warning_msg=_LOGISTIC_SOLVER_CONVERGENCE_MSG)\n",
            "/usr/local/lib/python3.6/dist-packages/sklearn/linear_model/_logistic.py:940: ConvergenceWarning: lbfgs failed to converge (status=1):\n",
            "STOP: TOTAL NO. of ITERATIONS REACHED LIMIT.\n",
            "\n",
            "Increase the number of iterations (max_iter) or scale the data as shown in:\n",
            "    https://scikit-learn.org/stable/modules/preprocessing.html\n",
            "Please also refer to the documentation for alternative solver options:\n",
            "    https://scikit-learn.org/stable/modules/linear_model.html#logistic-regression\n",
            "  extra_warning_msg=_LOGISTIC_SOLVER_CONVERGENCE_MSG)\n",
            "/usr/local/lib/python3.6/dist-packages/sklearn/linear_model/_logistic.py:940: ConvergenceWarning: lbfgs failed to converge (status=1):\n",
            "STOP: TOTAL NO. of ITERATIONS REACHED LIMIT.\n",
            "\n",
            "Increase the number of iterations (max_iter) or scale the data as shown in:\n",
            "    https://scikit-learn.org/stable/modules/preprocessing.html\n",
            "Please also refer to the documentation for alternative solver options:\n",
            "    https://scikit-learn.org/stable/modules/linear_model.html#logistic-regression\n",
            "  extra_warning_msg=_LOGISTIC_SOLVER_CONVERGENCE_MSG)\n"
          ],
          "name": "stderr"
        },
        {
          "output_type": "stream",
          "text": [
            "----------------------------------- Logistic Regression MODEL -----------------------------------\n",
            "***********************Without age and sex column************************\n",
            "ACCURACY SCORE:- 0.789030612244898\n",
            "*******************************************************\n",
            "F1 score without using two features namely \"sex\" , \"age\" : \n",
            "F1 score 0.9180327868852458\n",
            "\n",
            "\n",
            "**********************With age and sex column****************************\n",
            "ACCURACY SCORE:- 0.8553571428571429\n",
            "*******************************************************\n",
            "F1 score with using two features namely \"sex\" , \"age\" : \n",
            "F1 score 0.8305555555555556\n"
          ],
          "name": "stdout"
        },
        {
          "output_type": "stream",
          "text": [
            "/usr/local/lib/python3.6/dist-packages/sklearn/linear_model/_logistic.py:940: ConvergenceWarning: lbfgs failed to converge (status=1):\n",
            "STOP: TOTAL NO. of ITERATIONS REACHED LIMIT.\n",
            "\n",
            "Increase the number of iterations (max_iter) or scale the data as shown in:\n",
            "    https://scikit-learn.org/stable/modules/preprocessing.html\n",
            "Please also refer to the documentation for alternative solver options:\n",
            "    https://scikit-learn.org/stable/modules/linear_model.html#logistic-regression\n",
            "  extra_warning_msg=_LOGISTIC_SOLVER_CONVERGENCE_MSG)\n",
            "/usr/local/lib/python3.6/dist-packages/sklearn/linear_model/_logistic.py:940: ConvergenceWarning: lbfgs failed to converge (status=1):\n",
            "STOP: TOTAL NO. of ITERATIONS REACHED LIMIT.\n",
            "\n",
            "Increase the number of iterations (max_iter) or scale the data as shown in:\n",
            "    https://scikit-learn.org/stable/modules/preprocessing.html\n",
            "Please also refer to the documentation for alternative solver options:\n",
            "    https://scikit-learn.org/stable/modules/linear_model.html#logistic-regression\n",
            "  extra_warning_msg=_LOGISTIC_SOLVER_CONVERGENCE_MSG)\n",
            "/usr/local/lib/python3.6/dist-packages/sklearn/linear_model/_logistic.py:940: ConvergenceWarning: lbfgs failed to converge (status=1):\n",
            "STOP: TOTAL NO. of ITERATIONS REACHED LIMIT.\n",
            "\n",
            "Increase the number of iterations (max_iter) or scale the data as shown in:\n",
            "    https://scikit-learn.org/stable/modules/preprocessing.html\n",
            "Please also refer to the documentation for alternative solver options:\n",
            "    https://scikit-learn.org/stable/modules/linear_model.html#logistic-regression\n",
            "  extra_warning_msg=_LOGISTIC_SOLVER_CONVERGENCE_MSG)\n",
            "/usr/local/lib/python3.6/dist-packages/sklearn/linear_model/_logistic.py:940: ConvergenceWarning: lbfgs failed to converge (status=1):\n",
            "STOP: TOTAL NO. of ITERATIONS REACHED LIMIT.\n",
            "\n",
            "Increase the number of iterations (max_iter) or scale the data as shown in:\n",
            "    https://scikit-learn.org/stable/modules/preprocessing.html\n",
            "Please also refer to the documentation for alternative solver options:\n",
            "    https://scikit-learn.org/stable/modules/linear_model.html#logistic-regression\n",
            "  extra_warning_msg=_LOGISTIC_SOLVER_CONVERGENCE_MSG)\n"
          ],
          "name": "stderr"
        }
      ]
    },
    {
      "cell_type": "markdown",
      "metadata": {
        "id": "3YU2-6SxqAh0",
        "colab_type": "text"
      },
      "source": [
        "**RANDOM FOREST**"
      ]
    },
    {
      "cell_type": "code",
      "metadata": {
        "id": "ltR6xfy5qGs6",
        "colab_type": "code",
        "outputId": "c5b37788-33ea-430a-b0a5-d0006cb0c885",
        "colab": {
          "base_uri": "https://localhost:8080/",
          "height": 175
        }
      },
      "source": [
        "from sklearn.ensemble import RandomForestClassifier\n",
        "data = pd.read_csv('/content/drive/My Drive/heart.csv')\n",
        "data2 = pd.read_csv('/content/drive/My Drive/heart.csv')\n",
        "d=data.isnull().sum(axis = 1)\n",
        "x=data['target']\n",
        "a = data['age']\n",
        "s = data['sex']\n",
        "data = data.drop(columns=['target','age','sex'],axis=0)\n",
        "data2=data2.drop(columns=['target'],axis=0)\n",
        "classifier = RandomForestClassifier(max_depth=2, random_state=0)\n",
        "x_train,x_test,y_train,y_test=train_test_split(data,x,test_size=0.2)\n",
        "classifier.fit(x_train, y_train)\n",
        "y=classifier.predict(x_test)\n",
        "score_is = cross_val_score(estimator=classifier, X=x_train, y=y_train, cv=5)\n",
        "print(\"----------------------------------- Random-Forest Model -----------------------------------\")\n",
        "print(\"***********************Without age and sex column************************\")\n",
        "print(\"ACCURACY SCORE:-\",score_is.mean())\n",
        "accuracy_dict[11].append(score_is.mean())\n",
        "fscore_dict[11].append(f1_score(y_test, y, average='macro'))\n",
        "print(\"F1 score\",f1_score(y_test, y, average='macro'))\n",
        "print(\"\\n\")\n",
        "\n",
        "x_train1,x_test1,y_train1,y_test1=train_test_split(data2,x,test_size=0.2)\n",
        "classifier.fit(x_train1,y_train1)\n",
        "y1=classifier.predict(x_test1)\n",
        "score_is = cross_val_score(estimator=classifier, X=x_train1, y=y_train1, cv=5)\n",
        "print(\"**********************With age and sex column****************************\")\n",
        "print(\"ACCURACY SCORE:-\",score_is.mean())\n",
        "accuracy_dict[13].append(score_is.mean())\n",
        "fscore_dict[13].append(f1_score(y_test1, y1, average='macro'))\n",
        "print(\"F1 score\",f1_score(y_test1, y1, average='macro'))"
      ],
      "execution_count": 297,
      "outputs": [
        {
          "output_type": "stream",
          "text": [
            "----------------------------------- Random-Forest Model -----------------------------------\n",
            "***********************Without age and sex column************************\n",
            "ACCURACY SCORE:- 0.8225340136054422\n",
            "F1 score 0.7939189189189189\n",
            "\n",
            "\n",
            "**********************With age and sex column****************************\n",
            "ACCURACY SCORE:- 0.8221938775510205\n",
            "F1 score 0.8032258064516129\n"
          ],
          "name": "stdout"
        }
      ]
    },
    {
      "cell_type": "markdown",
      "metadata": {
        "id": "J8DL4vKFi7Pj",
        "colab_type": "text"
      },
      "source": [
        "**NAIVE-BAYES MODEL**"
      ]
    },
    {
      "cell_type": "code",
      "metadata": {
        "id": "11ASd8vtfLaT",
        "colab_type": "code",
        "outputId": "c5f111f3-d36e-4292-d624-dd9774613e5c",
        "colab": {
          "base_uri": "https://localhost:8080/",
          "height": 193
        }
      },
      "source": [
        "from sklearn.metrics import accuracy_score\n",
        "from sklearn.naive_bayes import GaussianNB\n",
        "data = pd.read_csv(\"/content/drive/My Drive/heart.csv\")\n",
        "data2 = pd.read_csv(\"/content/drive/My Drive/heart.csv\")\n",
        "d=data.isnull().sum(axis = 1)\n",
        "x=data['target']\n",
        "a = data['age']\n",
        "s = data['sex']\n",
        "data = data.drop(columns=['target','age','sex'],axis=0)\n",
        "data2=data2.drop(columns=['target'],axis=0)\n",
        "x_train,x_test,y_train,y_test=train_test_split(data,x,test_size=0.2)\n",
        "nb = GaussianNB()\n",
        "nb.fit(x_train,y_train)\n",
        "pred = nb.predict(x_test)\n",
        "score_is = cross_val_score(estimator=nb, X=x_train, y=y_train, cv=5)\n",
        "print(\"----------------------------------- Naive-Bayes MODEL -----------------------------------\")\n",
        "print(\"***********************Without age and sex column************************\")\n",
        "print(\"Accuracy\",score_is.mean())\n",
        "accuracy_dict[11].append(score_is.mean())\n",
        "fscore_dict[11].append(f1_score(y_test, pred, average='macro'))\n",
        "print(\"F1 score\",f1_score(y_test, pred, average='macro'))\n",
        "print(\"\\n\")\n",
        "x_train,x_test,y_train,y_test=train_test_split(data2,x,test_size=0.2)\n",
        "nb = GaussianNB()\n",
        "nb.fit(x_train,y_train)\n",
        "pred = nb.predict(x_test)\n",
        "score_is = cross_val_score(estimator=nb, X=x_train, y=y_train, cv=5)\n",
        "print(\"----------------------------------- Naive-Bayes MODEL -----------------------------------\")\n",
        "print(\"***********************With age and sex column************************\")\n",
        "print(\"Accuracy\",score_is.mean())\n",
        "accuracy_dict[13].append(score_is.mean())\n",
        "fscore_dict[13].append(f1_score(y_test, pred, average='macro'))\n",
        "print(\"F1 score\",f1_score(y_test, pred, average='macro'))"
      ],
      "execution_count": 298,
      "outputs": [
        {
          "output_type": "stream",
          "text": [
            "----------------------------------- Naive-Bayes MODEL -----------------------------------\n",
            "***********************Without age and sex column************************\n",
            "Accuracy 0.7848639455782312\n",
            "F1 score 0.8324175824175823\n",
            "\n",
            "\n",
            "----------------------------------- Naive-Bayes MODEL -----------------------------------\n",
            "***********************With age and sex column************************\n",
            "Accuracy 0.8308673469387754\n",
            "F1 score 0.7538337368845844\n"
          ],
          "name": "stdout"
        }
      ]
    },
    {
      "cell_type": "code",
      "metadata": {
        "id": "-ZJLBop1yg6Y",
        "colab_type": "code",
        "colab": {}
      },
      "source": [
        "def find_max(arr):\n",
        "  ma= arr[0]\n",
        "  i_m=0\n",
        "  for i in range(len(arr)):\n",
        "    if(arr[i]>ma):\n",
        "      ma=arr[i]\n",
        "      i_m=i\n",
        "  return i_m\n"
      ],
      "execution_count": 0,
      "outputs": []
    },
    {
      "cell_type": "markdown",
      "metadata": {
        "id": "RCcml5JZi1CM",
        "colab_type": "text"
      },
      "source": [
        "**KNN MODEL**"
      ]
    },
    {
      "cell_type": "code",
      "metadata": {
        "id": "ZV_eax6iiMQt",
        "colab_type": "code",
        "outputId": "44de35f6-3f83-4d75-95a7-b0af21e98b13",
        "colab": {
          "base_uri": "https://localhost:8080/",
          "height": 625
        }
      },
      "source": [
        "import pandas as pd\n",
        "from sklearn.neighbors import KNeighborsClassifier\n",
        "from sklearn.metrics import accuracy_score\n",
        "from sklearn.model_selection import train_test_split\n",
        "import matplotlib.pyplot as plt\n",
        "data = pd.read_csv('/content/drive/My Drive/heart.csv')\n",
        "data2 = pd.read_csv('/content/drive/My Drive/heart.csv')\n",
        "d=data.isnull().sum(axis = 1)\n",
        "x=data['target']\n",
        "a = data['age']\n",
        "s = data['sex']\n",
        "neighbour=list(range(1,10))\n",
        "data = data.drop(columns=['target','age','sex'],axis=0)\n",
        "data2=data2.drop(columns=['target'],axis=0)\n",
        "acc1=[]\n",
        "acc2=[]\n",
        "f1_1=[]\n",
        "f1_2=[]\n",
        "x_train,x_test,y_train,y_test=train_test_split(data,x,test_size=0.2)\n",
        "for i in neighbour:\n",
        "  classifier = KNeighborsClassifier(n_neighbors=i)\n",
        "\n",
        "  classifier.fit(x_train, y_train)\n",
        "  y=classifier.predict(x_test)\n",
        "  acc1.append(accuracy_score(y_test,y))\n",
        "  f1_1.append(f1_score(y_test, y, average='macro'))\n",
        "i_max =find_max(acc1)\n",
        "print(\"----------------------------------- KNN MODEL -----------------------------------\")\n",
        "print(\"***********************Without age and sex column************************\")\n",
        "print(\"ACCURACY SCORE:-\",accuracy_score(y_test,y))\n",
        "accuracy_dict[11].append(acc1[i_max])\n",
        "fscore_dict[11].append(f1_1[i_max])\n",
        "print(\"F1 score\",f1_1[i_max])\n",
        "print(\"\\n\")\n",
        "\n",
        "x_train1,x_test1,y_train1,y_test1=train_test_split(data2,x,test_size=0.2)\n",
        "for i in neighbour:\n",
        "  classifier = KNeighborsClassifier(n_neighbors=i)\n",
        "\n",
        "  classifier.fit(x_train1, y_train1)\n",
        "  y1=classifier.predict(x_test1)\n",
        "  acc2.append(accuracy_score(y_test1,y1))\n",
        "  f1_2.append(f1_score(y_test1, y1, average='macro'))\n",
        "i_max2 =find_max(acc2)\n",
        "\n",
        "print(\"**********************With age and sex column****************************\")\n",
        "# print(\"ACCURACY SCORE:-\",acc2[i_max1])\n",
        "accuracy_dict[13].append(acc2[i_max2])\n",
        "fscore_dict[13].append(f1_2[i_max2])\n",
        "print(\"F1 score\",f1_2[i_max2])\n",
        "print(\"\\n\")\n",
        "plt.plot(neighbour,acc1,label=\"With Age and Sex Column\")\n",
        "plt.plot(neighbour,acc2,label=\"Without Age and Sex Column\")\n",
        "plt.xlabel(\"Neighbours\")\n",
        "plt.ylabel(\"Accuracy Obtained\")\n",
        "plt.legend()\n",
        "plt.show()"
      ],
      "execution_count": 300,
      "outputs": [
        {
          "output_type": "stream",
          "text": [
            "----------------------------------- KNN MODEL -----------------------------------\n",
            "***********************Without age and sex column************************\n",
            "ACCURACY SCORE:- 0.639344262295082\n",
            "F1 score 0.6272222222222222\n",
            "\n",
            "\n",
            "**********************With age and sex column****************************\n",
            "F1 score 0.6345315904139434\n",
            "\n",
            "\n"
          ],
          "name": "stdout"
        },
        {
          "output_type": "display_data",
          "data": {
            "image/png": "[encoded data removed]",
            "text/plain": [
              "<Figure size 640x480 with 1 Axes>"
            ]
          },
          "metadata": {
            "tags": []
          }
        }
      ]
    },
    {
      "cell_type": "markdown",
      "metadata": {
        "id": "rRuDnEpRitJn",
        "colab_type": "text"
      },
      "source": [
        "**DECISION-TREE CLASSIFIER**"
      ]
    },
    {
      "cell_type": "code",
      "metadata": {
        "id": "vSXxSAD5hU4c",
        "colab_type": "code",
        "outputId": "acd65e14-bb97-465b-e6fd-b99f5d6ab426",
        "colab": {
          "base_uri": "https://localhost:8080/",
          "height": 678
        }
      },
      "source": [
        "import pandas as pd\n",
        "from sklearn.tree import DecisionTreeClassifier as cl\n",
        "from sklearn.metrics import accuracy_score\n",
        "from sklearn.model_selection import train_test_split\n",
        "data = pd.read_csv('/content/drive/My Drive/heart.csv')\n",
        "data2 = pd.read_csv('/content/drive/My Drive/heart.csv')\n",
        "d=data.isnull().sum(axis = 1)\n",
        "x=data['target']\n",
        "a = data['age']\n",
        "s = data['sex']\n",
        "data = data.drop(columns=['target','age','sex'],axis=0)\n",
        "\n",
        "def count(x):\n",
        "    count=0\n",
        "    for i in x:\n",
        "        if i==0:\n",
        "            count=count+1\n",
        "        else:\n",
        "            continue\n",
        "    return count\n",
        "data2=data2.drop(columns=['target'],axis=0)\n",
        "print(\"Target is 0(i.e. not having heart disease) for\",count(x),\"patients\")\n",
        "print(\"Target is 1(i.e. having heart disease) for\" ,len(x)-count(x),\"patients\")\n",
        "acc1=[]\n",
        "acc2=[]\n",
        "f1_1=[]\n",
        "f1_2=[]\n",
        "x_train,x_test,y_train,y_test=train_test_split(data,x,test_size=0.2)\n",
        "for i in range(1,10):\n",
        "  clf = cl(random_state=0,criterion='entropy',max_depth=i)\n",
        "  clf.fit(x_train,y_train)\n",
        "  y=clf.predict(x_test)\n",
        "  acc1.append(accuracy_score(y_test,y))\n",
        "  f1_1.append(f1_score(y_test, y, average='macro'))\n",
        "i_max =find_max(acc1)\n",
        "\n",
        "print(\"***********Decision-tree***************\")\n",
        "print(\"***********************Without age and sex column************************\")\n",
        "print(\"Accuracy\",accuracy_score(y_test,y))\n",
        "accuracy_dict[11].append(acc1[i_max])\n",
        "fscore_dict[11].append(f1_1[i_max])\n",
        "print(\"F1 score\",f1_1[i_max])\n",
        "print(\"\\n\")\n",
        "\n",
        "x_train1,x_test1,y_train1,y_test1=train_test_split(data2,x,test_size=0.2)\n",
        "for i in range(1,10):\n",
        "  clf1 = cl(random_state=0,criterion='entropy',max_depth=i)\n",
        "  clf1.fit(x_train1,y_train1)\n",
        "  y1=clf1.predict(x_test1)\n",
        "  acc2.append(accuracy_score(y_test1,y1))\n",
        "  f1_2.append(f1_score(y_test1, y1, average='macro'))\n",
        "i_max1 =find_max(acc2)\n",
        "\n",
        "print(\"***********************With age and sex column************************\")\n",
        "print(accuracy_score(y_test1,y1))\n",
        "accuracy_dict[13].append(acc2[i_max1])\n",
        "fscore_dict[13].append(f1_2[i_max1])\n",
        "print(\"F1 score\",f1_2[i_max1])\n",
        "print(\"\\n\")\n",
        "max_depth_range=list(range(1,10))\n",
        "plt.plot(max_depth_range,acc1,label=\"With Age and Sex Column\")\n",
        "plt.plot(max_depth_range,acc2,label=\"Without Age and Sex Column\")\n",
        "plt.xlabel(\"Depths\")\n",
        "plt.ylabel(\"Accuracy Obtained\")\n",
        "plt.legend()\n",
        "plt.show()"
      ],
      "execution_count": 301,
      "outputs": [
        {
          "output_type": "stream",
          "text": [
            "Target is 0(i.e. not having heart disease) for 138 patients\n",
            "Target is 1(i.e. having heart disease) for 165 patients\n",
            "***********Decision-tree***************\n",
            "***********************Without age and sex column************************\n",
            "Accuracy 0.6065573770491803\n",
            "F1 score 0.7868852459016394\n",
            "\n",
            "\n",
            "***********************With age and sex column************************\n",
            "0.7377049180327869\n",
            "F1 score 0.8356681034482758\n",
            "\n",
            "\n"
          ],
          "name": "stdout"
        },
        {
          "output_type": "display_data",
          "data": {
            "image/png": "[encoded data removed]",
            "text/plain": [
              "<Figure size 640x480 with 1 Axes>"
            ]
          },
          "metadata": {
            "tags": []
          }
        }
      ]
    },
    {
      "cell_type": "markdown",
      "metadata": {
        "id": "PkY5OTIficAA",
        "colab_type": "text"
      },
      "source": [
        "**HYBRID APPROACH USING LASSO(LINEAR MODEL) AND RANDOM-FOREST**\n"
      ]
    },
    {
      "cell_type": "code",
      "metadata": {
        "id": "LBNLzQe1fzeF",
        "colab_type": "code",
        "outputId": "c704af79-b228-44e5-8756-a51643499641",
        "colab": {
          "base_uri": "https://localhost:8080/",
          "height": 52
        }
      },
      "source": [
        "from sklearn.ensemble import RandomForestClassifier\n",
        "from sklearn.datasets import make_regression\n",
        "from sklearn.linear_model import Lasso\n",
        "regr = RandomForestClassifier()\n",
        "ridge = Lasso(alpha=1.0)\n",
        "data3 = pd.read_csv(\"/content/drive/My Drive/heart.csv\")\n",
        "target = data3['target']\n",
        "data3 = data3.drop(columns=['target','age','sex'],axis=0)\n",
        "ridge.fit(data3,target)\n",
        "cof=ridge.coef_\n",
        "c=0\n",
        "to_be_d = []\n",
        "for i in data3.columns:\n",
        "  if cof[c]<0:\n",
        "    to_be_d.append(i)\n",
        "  c=c+1\n",
        "data3 = data3.drop(columns=to_be_d,axis=0)\n",
        "x_tr,x_te,y_tr,y_te = train_test_split(data3,target,test_size=0.2)\n",
        "print(cof)\n",
        "regr.fit(x_tr, y_tr)\n",
        "p = regr.predict(x_te)\n",
        "score_is = cross_val_score(estimator=regr, X=x_tr, y=y_tr, cv=5)\n"
      ],
      "execution_count": 302,
      "outputs": [
        {
          "output_type": "stream",
          "text": [
            "[ 0.         -0.00027102 -0.00040373 -0.          0.          0.00725366\n",
            " -0.         -0.          0.         -0.         -0.        ]\n"
          ],
          "name": "stdout"
        }
      ]
    },
    {
      "cell_type": "code",
      "metadata": {
        "id": "4HgOr6qNgfA4",
        "colab_type": "code",
        "outputId": "278d7e71-5978-4f43-b233-4806db55f5c4",
        "colab": {
          "base_uri": "https://localhost:8080/",
          "height": 122
        }
      },
      "source": [
        "print(\"**************************************************\")\n",
        "print(\"Without age and sex column\")\n",
        "print(\"Accuracy\",score_is.mean())\n",
        "accuracy_dict[11].append(score_is.mean())\n",
        "fscore_dict[11].append(f1_score(p, y_te, average='macro'))\n",
        "print(\"F1 score\",f1_score(p, y_te, average='macro'))\n",
        "print(\"\\n\")"
      ],
      "execution_count": 303,
      "outputs": [
        {
          "output_type": "stream",
          "text": [
            "**************************************************\n",
            "Without age and sex column\n",
            "Accuracy 0.8310374149659865\n",
            "F1 score 0.7244805781391147\n",
            "\n",
            "\n"
          ],
          "name": "stdout"
        }
      ]
    },
    {
      "cell_type": "code",
      "metadata": {
        "id": "ORVW6_MWqqTj",
        "colab_type": "code",
        "outputId": "e148392a-fb99-4ba0-d6dd-1325cab21394",
        "colab": {
          "base_uri": "https://localhost:8080/",
          "height": 70
        }
      },
      "source": [
        "from sklearn.ensemble import RandomForestClassifier\n",
        "from sklearn.datasets import make_regression\n",
        "from sklearn.linear_model import Lasso\n",
        "regr = RandomForestClassifier()\n",
        "ridge = Lasso(alpha=1.0)\n",
        "data3 = pd.read_csv(\"/content/drive/My Drive/heart.csv\")\n",
        "target = data3['target']\n",
        "data3 = data3.drop(columns=['target'],axis=0)\n",
        "ridge.fit(data3,target)\n",
        "cof=ridge.coef_\n",
        "c=0\n",
        "to_be_d = []\n",
        "for i in data3.columns:\n",
        "  if cof[c]<0:\n",
        "    to_be_d.append(i)\n",
        "  c=c+1\n",
        "data3 = data3.drop(columns=to_be_d,axis=0)\n",
        "x_tr,x_te,y_tr,y_te = train_test_split(data3,target,test_size=0.2)\n",
        "print(cof)\n",
        "regr.fit(x_tr, y_tr)\n",
        "p = regr.predict(x_te)\n",
        "score_is = cross_val_score(estimator=regr, X=x_tr, y=y_tr, cv=5)"
      ],
      "execution_count": 304,
      "outputs": [
        {
          "output_type": "stream",
          "text": [
            "[-0.         -0.          0.         -0.00027102 -0.00040373 -0.\n",
            "  0.          0.00725366 -0.         -0.          0.         -0.\n",
            " -0.        ]\n"
          ],
          "name": "stdout"
        }
      ]
    },
    {
      "cell_type": "code",
      "metadata": {
        "id": "820iJ_4QtZIe",
        "colab_type": "code",
        "outputId": "ce03be17-38f2-4a62-a34b-00b0ce0320cd",
        "colab": {
          "base_uri": "https://localhost:8080/",
          "height": 122
        }
      },
      "source": [
        "print(\"**************************************************\")\n",
        "print(\"With age and sex column\")\n",
        "print(\"Accuracy\",score_is.mean())\n",
        "accuracy_dict[13].append(score_is.mean())\n",
        "fscore_dict[13].append(f1_score(p, y_te, average='macro'))\n",
        "print(\"F1 score\",f1_score(p, y_te, average='macro'))\n",
        "print(\"\\n\")"
      ],
      "execution_count": 305,
      "outputs": [
        {
          "output_type": "stream",
          "text": [
            "**************************************************\n",
            "With age and sex column\n",
            "Accuracy 0.8389455782312926\n",
            "F1 score 0.8196721311475409\n",
            "\n",
            "\n"
          ],
          "name": "stdout"
        }
      ]
    },
    {
      "cell_type": "markdown",
      "metadata": {
        "id": "s-7pKzqMHGR5",
        "colab_type": "text"
      },
      "source": [
        "Language Model"
      ]
    },
    {
      "cell_type": "code",
      "metadata": {
        "id": "U3Z3DfF6HK0G",
        "colab_type": "code",
        "outputId": "159cca64-2c4b-4108-ec47-ac6ada3a8082",
        "colab": {
          "base_uri": "https://localhost:8080/",
          "height": 122
        }
      },
      "source": [
        "\n",
        "data = pd.read_csv(\"/content/drive/My Drive/heart.csv\")\n",
        "y = list(data[\"target\"])\n",
        "data = data.drop(['target'], axis=1)\n",
        "X_train, X_test, Y_train, Y_test = train_test_split(data, y, test_size = 0.3)\n",
        "X_train = X_train.reset_index(drop=True)\n",
        "X_train[\"target\"] = list(Y_train)\n",
        "unigram_dict = {}\n",
        "bigram_dict = {}\n",
        "X_train_features = list(X_train.columns)\n",
        "for feature in X_train_features:\n",
        "  if(feature!=\"target\"):\n",
        "    # print(feature)\n",
        "    bigram_dict[feature] = {}\n",
        "    unigram_dict[feature] = {}\n",
        "    for i in X_train.index:\n",
        "      temp_bigram = str(X_train[feature][i])+\" \"+str(X_train[\"target\"][i])\n",
        "      temp_unigram = X_train[feature][i]\n",
        "      if temp_bigram not in bigram_dict[feature]:\n",
        "        bigram_dict[feature][temp_bigram] = 2\n",
        "      else:\n",
        "        bigram_dict[feature][temp_bigram] += 1\n",
        "\n",
        "      if temp_unigram not in unigram_dict[feature]:\n",
        "        unigram_dict[feature][temp_unigram] = 2\n",
        "      else:\n",
        "        unigram_dict[feature][temp_unigram] += 1\n",
        "\n",
        "\n",
        "predicted_class_labels = []\n",
        "for i in X_test.index:\n",
        "  temp_prob_1 = 0\n",
        "  temp_prob_0 = 0\n",
        "  for feature in X_train_features:\n",
        "    if(feature!=\"target\"):\n",
        "      temp_bigram_1 = str(X_test[feature][i])+\" \"+str(1)\n",
        "      temp_bigram_0 = str(X_test[feature][i])+\" \"+str(0)\n",
        "      temp_unigram = X_test[feature][i]\n",
        "      if(temp_bigram_1 in bigram_dict[feature]):\n",
        "        temp_prob_1 += bigram_dict[feature][temp_bigram_1]/(unigram_dict[feature][temp_unigram] + len(unigram_dict[feature]))\n",
        "      elif(temp_unigram in unigram_dict[feature]):\n",
        "        temp_prob_1 += 1/(unigram_dict[feature][temp_unigram] + len(unigram_dict[feature]))\n",
        "      else:\n",
        "        temp_prob_1 += 1/len(unigram_dict[feature])\n",
        "\n",
        "      if(temp_bigram_0 in bigram_dict[feature]):\n",
        "        temp_prob_0 += bigram_dict[feature][temp_bigram_0]/(unigram_dict[feature][temp_unigram] + len(unigram_dict[feature]))\n",
        "      elif(temp_unigram in unigram_dict[feature]):\n",
        "        temp_prob_0 += 1/(unigram_dict[feature][temp_unigram] + len(unigram_dict[feature]))\n",
        "      else:\n",
        "        temp_prob_0 += 1/len(unigram_dict[feature])\n",
        "\n",
        "  if(temp_prob_1 >= temp_prob_0):\n",
        "    predicted_class_labels.append(1)\n",
        "  else:\n",
        "    predicted_class_labels.append(0)\n",
        "\n",
        "print(\"**************************************************\")\n",
        "print(\"With age and sex column\")\n",
        "print(\"Accuracy\",accuracy_score(Y_test, predicted_class_labels))\n",
        "accuracy_dict[13].append(accuracy_score(Y_test, predicted_class_labels))\n",
        "fscore_dict[13].append(f1_score(Y_test, predicted_class_labels, average='macro'))\n",
        "print(\"F1 score\",f1_score(Y_test, predicted_class_labels, average='macro'))\n",
        "print(\"\\n\")"
      ],
      "execution_count": 306,
      "outputs": [
        {
          "output_type": "stream",
          "text": [
            "**************************************************\n",
            "With age and sex column\n",
            "Accuracy 0.8021978021978022\n",
            "F1 score 0.7910714285714286\n",
            "\n",
            "\n"
          ],
          "name": "stdout"
        }
      ]
    },
    {
      "cell_type": "code",
      "metadata": {
        "id": "Wr4hRpPKIVfy",
        "colab_type": "code",
        "outputId": "6c837105-ac74-4043-f04d-875ee03d721f",
        "colab": {
          "base_uri": "https://localhost:8080/",
          "height": 122
        }
      },
      "source": [
        "data = pd.read_csv(\"/content/drive/My Drive/heart.csv\")\n",
        "y = list(data[\"target\"])\n",
        "data = data.drop(['target', 'age', 'sex'], axis=1)\n",
        "X_train, X_test, Y_train, Y_test = train_test_split(data, y, test_size = 0.3)\n",
        "X_train = X_train.reset_index(drop=True)\n",
        "X_train[\"target\"] = list(Y_train)\n",
        "unigram_dict = {}\n",
        "bigram_dict = {}\n",
        "X_train_features = list(X_train.columns)\n",
        "for feature in X_train_features:\n",
        "  if(feature!=\"target\"):\n",
        "    # print(feature)\n",
        "    bigram_dict[feature] = {}\n",
        "    unigram_dict[feature] = {}\n",
        "    for i in X_train.index:\n",
        "      temp_bigram = str(X_train[feature][i])+\" \"+str(X_train[\"target\"][i])\n",
        "      temp_unigram = X_train[feature][i]\n",
        "      if temp_bigram not in bigram_dict[feature]:\n",
        "        bigram_dict[feature][temp_bigram] = 2\n",
        "      else:\n",
        "        bigram_dict[feature][temp_bigram] += 1\n",
        "\n",
        "      if temp_unigram not in unigram_dict[feature]:\n",
        "        unigram_dict[feature][temp_unigram] = 2\n",
        "      else:\n",
        "        unigram_dict[feature][temp_unigram] += 1\n",
        "\n",
        "\n",
        "predicted_class_labels = []\n",
        "for i in X_test.index:\n",
        "  temp_prob_1 = 0\n",
        "  temp_prob_0 = 0\n",
        "  for feature in X_train_features:\n",
        "    if(feature!=\"target\"):\n",
        "      temp_bigram_1 = str(X_test[feature][i])+\" \"+str(1)\n",
        "      temp_bigram_0 = str(X_test[feature][i])+\" \"+str(0)\n",
        "      temp_unigram = X_test[feature][i]\n",
        "      if(temp_bigram_1 in bigram_dict[feature]):\n",
        "        temp_prob_1 += bigram_dict[feature][temp_bigram_1]/(unigram_dict[feature][temp_unigram] + len(unigram_dict[feature]))\n",
        "      elif(temp_unigram in unigram_dict[feature]):\n",
        "        temp_prob_1 += 1/(unigram_dict[feature][temp_unigram] + len(unigram_dict[feature]))\n",
        "      else:\n",
        "        temp_prob_1 += 1/len(unigram_dict[feature])\n",
        "\n",
        "      if(temp_bigram_0 in bigram_dict[feature]):\n",
        "        temp_prob_0 += bigram_dict[feature][temp_bigram_0]/(unigram_dict[feature][temp_unigram] + len(unigram_dict[feature]))\n",
        "      elif(temp_unigram in unigram_dict[feature]):\n",
        "        temp_prob_0 += 1/(unigram_dict[feature][temp_unigram] + len(unigram_dict[feature]))\n",
        "      else:\n",
        "        temp_prob_0 += 1/len(unigram_dict[feature])\n",
        "\n",
        "  if(temp_prob_1 >= temp_prob_0):\n",
        "    predicted_class_labels.append(1)\n",
        "  else:\n",
        "    predicted_class_labels.append(0)\n",
        "\n",
        "print(\"**************************************************\")\n",
        "print(\"Without age and sex column\")\n",
        "print(\"Accuracy\",accuracy_score(Y_test, predicted_class_labels))\n",
        "accuracy_dict[11].append(accuracy_score(Y_test, predicted_class_labels))\n",
        "fscore_dict[11].append(f1_score(Y_test, predicted_class_labels, average='macro'))\n",
        "print(\"F1 score\",f1_score(Y_test, predicted_class_labels, average='macro'))\n",
        "print(\"\\n\")"
      ],
      "execution_count": 307,
      "outputs": [
        {
          "output_type": "stream",
          "text": [
            "**************************************************\n",
            "Without age and sex column\n",
            "Accuracy 0.8021978021978022\n",
            "F1 score 0.795045045045045\n",
            "\n",
            "\n"
          ],
          "name": "stdout"
        }
      ]
    },
    {
      "cell_type": "code",
      "metadata": {
        "id": "F1VpkAIgTJUr",
        "colab_type": "code",
        "outputId": "3522de13-0907-4bab-e015-c47e3417040c",
        "colab": {
          "base_uri": "https://localhost:8080/",
          "height": 87
        }
      },
      "source": [
        "print(len(accuracy_dict[11]))\n",
        "print(len(fscore_dict[11]))\n",
        "print(len(accuracy_dict[13]))\n",
        "print(len(fscore_dict[13]))"
      ],
      "execution_count": 308,
      "outputs": [
        {
          "output_type": "stream",
          "text": [
            "9\n",
            "9\n",
            "9\n",
            "9\n"
          ],
          "name": "stdout"
        }
      ]
    },
    {
      "cell_type": "code",
      "metadata": {
        "id": "Ns5N3Yunc8SO",
        "colab_type": "code",
        "outputId": "ff2e9f79-9872-4e42-8b78-1d1697a651ab",
        "colab": {
          "base_uri": "https://localhost:8080/",
          "height": 599
        }
      },
      "source": [
        "import matplotlib.pyplot as plt; plt.rcdefaults()\n",
        "import numpy as np\n",
        "import matplotlib.pyplot as plt\n",
        "\n",
        "list_of_models = ['multilayer', 'svm', 'logistic regression', 'random forest', 'naive bayes', 'knn', 'decision tree', 'HRFLM', 'language']\n",
        "y_pos = np.arange(len(list_of_models))\n",
        "print(len(y_pos))\n",
        "print(len(accuracy_dict[11]))\n",
        "\n",
        "plt.bar(y_pos, accuracy_dict[11], align='center', alpha=0.5)\n",
        "plt.xticks(y_pos, list_of_models, rotation='vertical')\n",
        "plt.ylabel('Accuracy Values')\n",
        "plt.title('Accuracy plot of different models without \"age\" and \"sex\" column')\n",
        "\n",
        "plt.show()"
      ],
      "execution_count": 309,
      "outputs": [
        {
          "output_type": "stream",
          "text": [
            "9\n",
            "9\n"
          ],
          "name": "stdout"
        },
        {
          "output_type": "display_data",
          "data": {
            "image/png": "[encoded data removed]",
            "text/plain": [
              "<Figure size 640x480 with 1 Axes>"
            ]
          },
          "metadata": {
            "tags": []
          }
        }
      ]
    },
    {
      "cell_type": "code",
      "metadata": {
        "id": "1WDaWZRAe21n",
        "colab_type": "code",
        "outputId": "64ea2e74-79cb-49d5-e063-d90a88376cc0",
        "colab": {
          "base_uri": "https://localhost:8080/",
          "height": 564
        }
      },
      "source": [
        "import matplotlib.pyplot as plt; plt.rcdefaults()\n",
        "import numpy as np\n",
        "import matplotlib.pyplot as plt\n",
        "\n",
        "\n",
        "y_pos = np.arange(len(list_of_models))\n",
        "\n",
        "plt.bar(y_pos, accuracy_dict[13], align='center', alpha=0.5)\n",
        "plt.xticks(y_pos, list_of_models, rotation='vertical')\n",
        "plt.ylabel('Accuracy Values')\n",
        "plt.title('Accuracy plot of different models with \"age\" and \"sex\" column')\n",
        "\n",
        "plt.show()"
      ],
      "execution_count": 310,
      "outputs": [
        {
          "output_type": "display_data",
          "data": {
            "image/png": "[encoded data removed]",
            "text/plain": [
              "<Figure size 640x480 with 1 Axes>"
            ]
          },
          "metadata": {
            "tags": []
          }
        }
      ]
    },
    {
      "cell_type": "code",
      "metadata": {
        "id": "XhZ91qkrfAwO",
        "colab_type": "code",
        "outputId": "a465ee1c-17c5-4fad-9878-f846e39cfede",
        "colab": {
          "base_uri": "https://localhost:8080/",
          "height": 564
        }
      },
      "source": [
        "import matplotlib.pyplot as plt; plt.rcdefaults()\n",
        "import numpy as np\n",
        "import matplotlib.pyplot as plt\n",
        "\n",
        "\n",
        "y_pos = np.arange(len(list_of_models))\n",
        "\n",
        "plt.bar(y_pos, fscore_dict[11], align='center', alpha=0.5)\n",
        "plt.xticks(y_pos, list_of_models, rotation='vertical')\n",
        "plt.ylabel('F-score Values')\n",
        "plt.title('F-score plot of different models without \"age\" and \"sex\" column')\n",
        "\n",
        "plt.show()"
      ],
      "execution_count": 311,
      "outputs": [
        {
          "output_type": "display_data",
          "data": {
            "image/png": "[encoded data removed]",
            "text/plain": [
              "<Figure size 640x480 with 1 Axes>"
            ]
          },
          "metadata": {
            "tags": []
          }
        }
      ]
    },
    {
      "cell_type": "code",
      "metadata": {
        "id": "3R-HFJMwfRuD",
        "colab_type": "code",
        "outputId": "af2694b3-69f6-4d43-a912-c242391878aa",
        "colab": {
          "base_uri": "https://localhost:8080/",
          "height": 564
        }
      },
      "source": [
        "import matplotlib.pyplot as plt; plt.rcdefaults()\n",
        "import numpy as np\n",
        "import matplotlib.pyplot as plt\n",
        "\n",
        "\n",
        "y_pos = np.arange(len(list_of_models))\n",
        "\n",
        "plt.bar(y_pos, fscore_dict[13], align='center', alpha=0.5)\n",
        "plt.xticks(y_pos, list_of_models, rotation='vertical')\n",
        "plt.ylabel('F-score Values')\n",
        "plt.title('F-score plot of different models with \"age\" and \"sex\" column')\n",
        "\n",
        "plt.show()"
      ],
      "execution_count": 312,
      "outputs": [
        {
          "output_type": "display_data",
          "data": {
            "image/png": "[encoded data removed]",
            "text/plain": [
              "<Figure size 640x480 with 1 Axes>"
            ]
          },
          "metadata": {
            "tags": []
          }
        }
      ]
    }
  ]
}